{
 "cells": [
  {
   "cell_type": "code",
   "execution_count": 1,
   "metadata": {},
   "outputs": [
    {
     "name": "stdout",
     "output_type": "stream",
     "text": [
      "20127250 \n",
      "Ho Thi Thanh Ngan\n"
     ]
    }
   ],
   "source": [
    "import pandas as pd\n",
    "import matplotlib.pyplot as plt\n",
    "import seaborn as sns\n",
    "import statsmodels.api as sm\n",
    "print('20127250 \\nHo Thi Thanh Ngan')"
   ]
  },
  {
   "cell_type": "markdown",
   "metadata": {},
   "source": [
    "Câu hỏi 1: Trường ĐH KHTN đã thực hiện điều tra ngẫu nhiên một mẫu gồm các cựu sinh \n",
    "viên để hiểu về sự liên hệ giữa điểm số của sinh viên ra trường và mức lương khởi điểm.\n",
    "Kiểm tra sự tương quan giữa hai biến số.\n",
    "\n",
    "Dữ liệu: Tập dữ liệu bao gồm điểm GPA khi ra trường của sinh viên và mức lương khởi \n",
    "điểm tính bằng USD."
   ]
  },
  {
   "cell_type": "code",
   "execution_count": 82,
   "metadata": {},
   "outputs": [
    {
     "data": {
      "text/html": [
       "<div>\n",
       "<style scoped>\n",
       "    .dataframe tbody tr th:only-of-type {\n",
       "        vertical-align: middle;\n",
       "    }\n",
       "\n",
       "    .dataframe tbody tr th {\n",
       "        vertical-align: top;\n",
       "    }\n",
       "\n",
       "    .dataframe thead th {\n",
       "        text-align: right;\n",
       "    }\n",
       "</style>\n",
       "<table border=\"1\" class=\"dataframe\">\n",
       "  <thead>\n",
       "    <tr style=\"text-align: right;\">\n",
       "      <th></th>\n",
       "      <th>Salary</th>\n",
       "      <th>GPA</th>\n",
       "    </tr>\n",
       "  </thead>\n",
       "  <tbody>\n",
       "    <tr>\n",
       "      <th>0</th>\n",
       "      <td>300</td>\n",
       "      <td>8.5</td>\n",
       "    </tr>\n",
       "    <tr>\n",
       "      <th>1</th>\n",
       "      <td>400</td>\n",
       "      <td>8.0</td>\n",
       "    </tr>\n",
       "    <tr>\n",
       "      <th>2</th>\n",
       "      <td>400</td>\n",
       "      <td>6.7</td>\n",
       "    </tr>\n",
       "    <tr>\n",
       "      <th>3</th>\n",
       "      <td>890</td>\n",
       "      <td>9.3</td>\n",
       "    </tr>\n",
       "    <tr>\n",
       "      <th>4</th>\n",
       "      <td>295</td>\n",
       "      <td>7.5</td>\n",
       "    </tr>\n",
       "  </tbody>\n",
       "</table>\n",
       "</div>"
      ],
      "text/plain": [
       "   Salary  GPA\n",
       "0     300  8.5\n",
       "1     400  8.0\n",
       "2     400  6.7\n",
       "3     890  9.3\n",
       "4     295  7.5"
      ]
     },
     "execution_count": 82,
     "metadata": {},
     "output_type": "execute_result"
    }
   ],
   "source": [
    "df = pd.read_csv(\"https://raw.githubusercontent.com/Nganho22/rvPython/main/Salary.csv\", header=1, index_col=None)\n",
    "df.head()\n",
    "\n",
    "#df = pd.read_excel(\"film_sales.xlsx\")\n",
    "#df.to_csv('film_sales.csv', index=False)"
   ]
  },
  {
   "cell_type": "code",
   "execution_count": 83,
   "metadata": {},
   "outputs": [
    {
     "name": "stdout",
     "output_type": "stream",
     "text": [
      "Tong so dong du lieu la:  11\n",
      "Danh sach cac columns va type cua chung\n",
      "Salary      int64\n",
      "GPA       float64\n",
      "dtype: object\n"
     ]
    }
   ],
   "source": [
    "DT = pd.DataFrame(df)\n",
    "print(\"Tong so dong du lieu la: \", DT.shape[0])\n",
    "column_types = DT.dtypes\n",
    "print(\"Danh sach cac columns va type cua chung\")\n",
    "print(column_types)"
   ]
  },
  {
   "cell_type": "code",
   "execution_count": 84,
   "metadata": {},
   "outputs": [
    {
     "name": "stdout",
     "output_type": "stream",
     "text": [
      "Tong so dong du lieu sau khi xu ly duplicate la:  11\n"
     ]
    }
   ],
   "source": [
    "#Xu ly dulicate\n",
    "DT.drop_duplicates()\n",
    "print(\"Tong so dong du lieu sau khi xu ly duplicate la: \", DT.shape[0])"
   ]
  },
  {
   "cell_type": "code",
   "execution_count": 85,
   "metadata": {},
   "outputs": [
    {
     "name": "stdout",
     "output_type": "stream",
     "text": [
      "Salary: 0.0%\n",
      "GPA: 0.0%\n"
     ]
    }
   ],
   "source": [
    "#Xac dinh missing values\n",
    "for column in DT.columns:\n",
    "  per = DT[column].isnull().mean()\n",
    "  print(f'{column}: {round(per*100,2)}%')"
   ]
  },
  {
   "cell_type": "markdown",
   "metadata": {},
   "source": [
    "a) Cài đặt code đánh giá mức độ tương quan thông qua mô hình hồi quy. Cần giải thích \n",
    "rõ các thông số thu được từ kết quả"
   ]
  },
  {
   "cell_type": "markdown",
   "metadata": {},
   "source": [
    "#1 có add_consitant: \n",
    "\n",
    "    salart = a + b*GPA"
   ]
  },
  {
   "cell_type": "code",
   "execution_count": 86,
   "metadata": {},
   "outputs": [
    {
     "name": "stdout",
     "output_type": "stream",
     "text": [
      "                            OLS Regression Results                            \n",
      "==============================================================================\n",
      "Dep. Variable:                 Salary   R-squared:                       0.193\n",
      "Model:                            OLS   Adj. R-squared:                  0.103\n",
      "Method:                 Least Squares   F-statistic:                     2.148\n",
      "Date:                Sun, 17 Dec 2023   Prob (F-statistic):              0.177\n",
      "Time:                        23:50:27   Log-Likelihood:                -73.071\n",
      "No. Observations:                  11   AIC:                             150.1\n",
      "Df Residuals:                       9   BIC:                             150.9\n",
      "Df Model:                           1                                         \n",
      "Covariance Type:            nonrobust                                         \n",
      "==============================================================================\n",
      "                 coef    std err          t      P>|t|      [0.025      0.975]\n",
      "------------------------------------------------------------------------------\n",
      "const       -208.7084    454.356     -0.459      0.657   -1236.533     819.116\n",
      "GPA           83.7000     57.109      1.466      0.177     -45.489     212.889\n",
      "==============================================================================\n",
      "Omnibus:                        1.337   Durbin-Watson:                   1.757\n",
      "Prob(Omnibus):                  0.512   Jarque-Bera (JB):                0.922\n",
      "Skew:                           0.441   Prob(JB):                        0.631\n",
      "Kurtosis:                       1.888   Cond. No.                         59.3\n",
      "==============================================================================\n",
      "\n",
      "Notes:\n",
      "[1] Standard Errors assume that the covariance matrix of the errors is correctly specified.\n"
     ]
    },
    {
     "name": "stderr",
     "output_type": "stream",
     "text": [
      "c:\\Users\\user\\AppData\\Local\\Programs\\Python\\Python310\\lib\\site-packages\\scipy\\stats\\_stats_py.py:1477: UserWarning: kurtosistest only valid for n>=20 ... continuing anyway, n=11\n",
      "  warnings.warn(\"kurtosistest only valid for n>=20 ... continuing \"\n"
     ]
    }
   ],
   "source": [
    "x = df['GPA']\n",
    "x = sm.add_constant(x)\n",
    "y = df['Salary']\n",
    "model = sm.OLS(y,x)\n",
    "results = model.fit()\n",
    "print(results.summary())"
   ]
  },
  {
   "cell_type": "markdown",
   "metadata": {},
   "source": [
    "\n",
    "#test 1: salary = a + b*GPA\n",
    "\n",
    "    R-squared: 0.193\n",
    "    F-statistic: 2.148\n",
    "    Prob: 0.17 hơi lớn thì với dataset không có ý nghĩa\n",
    "\n",
    "                    p-value\n",
    "    const(a)        0.657\n",
    "    GPA  (b)        0.177"
   ]
  },
  {
   "cell_type": "markdown",
   "metadata": {},
   "source": [
    "#2 bỏ add_consitant:\n",
    "    salary = b*GPA"
   ]
  },
  {
   "cell_type": "code",
   "execution_count": 87,
   "metadata": {},
   "outputs": [
    {
     "name": "stdout",
     "output_type": "stream",
     "text": [
      "                                 OLS Regression Results                                \n",
      "=======================================================================================\n",
      "Dep. Variable:                 Salary   R-squared (uncentered):                   0.857\n",
      "Model:                            OLS   Adj. R-squared (uncentered):              0.842\n",
      "Method:                 Least Squares   F-statistic:                              59.77\n",
      "Date:                Sun, 17 Dec 2023   Prob (F-statistic):                    1.59e-05\n",
      "Time:                        23:50:27   Log-Likelihood:                         -73.198\n",
      "No. Observations:                  11   AIC:                                      148.4\n",
      "Df Residuals:                      10   BIC:                                      148.8\n",
      "Df Model:                           1                                                  \n",
      "Covariance Type:            nonrobust                                                  \n",
      "==============================================================================\n",
      "                 coef    std err          t      P>|t|      [0.025      0.975]\n",
      "------------------------------------------------------------------------------\n",
      "GPA           57.7115      7.465      7.731      0.000      41.078      74.345\n",
      "==============================================================================\n",
      "Omnibus:                        1.033   Durbin-Watson:                   1.829\n",
      "Prob(Omnibus):                  0.596   Jarque-Bera (JB):                0.845\n",
      "Skew:                           0.507   Prob(JB):                        0.655\n",
      "Kurtosis:                       2.097   Cond. No.                         1.00\n",
      "==============================================================================\n",
      "\n",
      "Notes:\n",
      "[1] R² is computed without centering (uncentered) since the model does not contain a constant.\n",
      "[2] Standard Errors assume that the covariance matrix of the errors is correctly specified.\n"
     ]
    },
    {
     "name": "stderr",
     "output_type": "stream",
     "text": [
      "c:\\Users\\user\\AppData\\Local\\Programs\\Python\\Python310\\lib\\site-packages\\scipy\\stats\\_stats_py.py:1477: UserWarning: kurtosistest only valid for n>=20 ... continuing anyway, n=11\n",
      "  warnings.warn(\"kurtosistest only valid for n>=20 ... continuing \"\n"
     ]
    }
   ],
   "source": [
    "x = df['GPA']\n",
    "y = df['Salary']\n",
    "model = sm.OLS(y,x)\n",
    "results = model.fit()\n",
    "print(results.summary())"
   ]
  },
  {
   "cell_type": "markdown",
   "metadata": {},
   "source": [
    "#test 2: salary = b*GPA\n",
    "\n",
    "    R-squared: 0.857\n",
    "    F-statistic: 59.77\n",
    "    Prob: 1.59E-05 tương đối bé và ổn hơn\n",
    "\n",
    "                    P-value\n",
    "    GPA (b)         0.000\n",
    "\n",
    "    => chọn được mô hình : salary = 57.7115*GPA"
   ]
  },
  {
   "cell_type": "code",
   "execution_count": 88,
   "metadata": {},
   "outputs": [
    {
     "name": "stdout",
     "output_type": "stream",
     "text": [
      "Parameters:  GPA    57.71152\n",
      "dtype: float64\n",
      "R2:  0.8566619532992307\n"
     ]
    }
   ],
   "source": [
    "print('Parameters: ', results.params)\n",
    "print('R2: ', results.rsquared)"
   ]
  },
  {
   "cell_type": "markdown",
   "metadata": {},
   "source": [
    "b) Dự đoán mức lương khởi điểm cho sinh viên có điểm trung bình khi học đại học là 8.0"
   ]
  },
  {
   "cell_type": "code",
   "execution_count": 89,
   "metadata": {},
   "outputs": [
    {
     "name": "stdout",
     "output_type": "stream",
     "text": [
      "salary = 57.7115 * GPA\n",
      "GPA = 8.0\n",
      "Then predicted Salary:  461.692\n"
     ]
    }
   ],
   "source": [
    "print('salary = 57.7115 * GPA')\n",
    "print('GPA = 8.0')\n",
    "print('Then predicted Salary: ', 57.7115*8.0)"
   ]
  },
  {
   "cell_type": "markdown",
   "metadata": {},
   "source": [
    "Câu hỏi 2: Sử dụng hồi quy tuyến tính để dự đoán Tổng sản phẩm quốc nội (GDP) của \n",
    "một quốc gia dựa trên các yếu tố như đầu tư công cộng, tiêu dùng cá nhân, và tỷ lệ thất \n",
    "nghiệp.\n",
    "\n",
    "Dữ liệu: Tập dữ liệu bao gồm GDP hàng năm, đầu tư công cộng, tiêu dùng cá nhân, và \n",
    "tỷ lệ thất nghiệp cho một quốc gia trong vòng 10 năm qua"
   ]
  },
  {
   "cell_type": "code",
   "execution_count": 90,
   "metadata": {},
   "outputs": [
    {
     "data": {
      "text/html": [
       "<div>\n",
       "<style scoped>\n",
       "    .dataframe tbody tr th:only-of-type {\n",
       "        vertical-align: middle;\n",
       "    }\n",
       "\n",
       "    .dataframe tbody tr th {\n",
       "        vertical-align: top;\n",
       "    }\n",
       "\n",
       "    .dataframe thead th {\n",
       "        text-align: right;\n",
       "    }\n",
       "</style>\n",
       "<table border=\"1\" class=\"dataframe\">\n",
       "  <thead>\n",
       "    <tr style=\"text-align: right;\">\n",
       "      <th></th>\n",
       "      <th>Public Investment</th>\n",
       "      <th>Personal Spending</th>\n",
       "      <th>Unemployment Rate</th>\n",
       "      <th>GDP</th>\n",
       "    </tr>\n",
       "  </thead>\n",
       "  <tbody>\n",
       "    <tr>\n",
       "      <th>0</th>\n",
       "      <td>829.18</td>\n",
       "      <td>5737.77</td>\n",
       "      <td>8.59</td>\n",
       "      <td>73228.77</td>\n",
       "    </tr>\n",
       "    <tr>\n",
       "      <th>1</th>\n",
       "      <td>1060.49</td>\n",
       "      <td>4136.05</td>\n",
       "      <td>4.72</td>\n",
       "      <td>47552.29</td>\n",
       "    </tr>\n",
       "    <tr>\n",
       "      <th>2</th>\n",
       "      <td>851.57</td>\n",
       "      <td>6061.11</td>\n",
       "      <td>8.94</td>\n",
       "      <td>66205.87</td>\n",
       "    </tr>\n",
       "    <tr>\n",
       "      <th>3</th>\n",
       "      <td>1080.47</td>\n",
       "      <td>4172.61</td>\n",
       "      <td>3.40</td>\n",
       "      <td>51984.68</td>\n",
       "    </tr>\n",
       "    <tr>\n",
       "      <th>4</th>\n",
       "      <td>957.45</td>\n",
       "      <td>4630.73</td>\n",
       "      <td>3.37</td>\n",
       "      <td>57237.32</td>\n",
       "    </tr>\n",
       "  </tbody>\n",
       "</table>\n",
       "</div>"
      ],
      "text/plain": [
       "   Public Investment  Personal Spending  Unemployment Rate       GDP\n",
       "0             829.18            5737.77               8.59  73228.77\n",
       "1            1060.49            4136.05               4.72  47552.29\n",
       "2             851.57            6061.11               8.94  66205.87\n",
       "3            1080.47            4172.61               3.40  51984.68\n",
       "4             957.45            4630.73               3.37  57237.32"
      ]
     },
     "execution_count": 90,
     "metadata": {},
     "output_type": "execute_result"
    }
   ],
   "source": [
    "df1 = pd.read_csv(\"https://raw.githubusercontent.com/Nganho22/rvPython/main/GDP.csv\", header=0, index_col=None)\n",
    "df1.head()"
   ]
  },
  {
   "cell_type": "code",
   "execution_count": 91,
   "metadata": {},
   "outputs": [
    {
     "name": "stdout",
     "output_type": "stream",
     "text": [
      "<class 'pandas.core.frame.DataFrame'>\n",
      "RangeIndex: 20 entries, 0 to 19\n",
      "Data columns (total 4 columns):\n",
      " #   Column             Non-Null Count  Dtype  \n",
      "---  ------             --------------  -----  \n",
      " 0   Public Investment  20 non-null     float64\n",
      " 1   Personal Spending  20 non-null     float64\n",
      " 2   Unemployment Rate  20 non-null     float64\n",
      " 3   GDP                20 non-null     float64\n",
      "dtypes: float64(4)\n",
      "memory usage: 768.0 bytes\n"
     ]
    }
   ],
   "source": [
    "df1.info()"
   ]
  },
  {
   "cell_type": "code",
   "execution_count": 92,
   "metadata": {},
   "outputs": [
    {
     "name": "stdout",
     "output_type": "stream",
     "text": [
      "Tong so dong du lieu la:  20\n",
      "Danh sach cac columns va type cua chung\n",
      "Public Investment    float64\n",
      "Personal Spending    float64\n",
      "Unemployment Rate    float64\n",
      "GDP                  float64\n",
      "dtype: object\n"
     ]
    }
   ],
   "source": [
    "DT1 = pd.DataFrame(df1)\n",
    "print(\"Tong so dong du lieu la: \", DT1.shape[0])\n",
    "column_types = DT1.dtypes\n",
    "print(\"Danh sach cac columns va type cua chung\")\n",
    "print(column_types)"
   ]
  },
  {
   "cell_type": "code",
   "execution_count": 93,
   "metadata": {},
   "outputs": [
    {
     "name": "stdout",
     "output_type": "stream",
     "text": [
      "Public Investment: 0.0%\n",
      "Personal Spending: 0.0%\n",
      "Unemployment Rate: 0.0%\n",
      "GDP: 0.0%\n"
     ]
    }
   ],
   "source": [
    "#Xac dinh missing values\n",
    "for column in DT1.columns:\n",
    "  per = DT1[column].isnull().mean()\n",
    "  print(f'{column}: {round(per*100,2)}%')"
   ]
  },
  {
   "cell_type": "markdown",
   "metadata": {},
   "source": [
    "a) Xây dựng mô hình hồi quy tuyến tính sử dụng đầu tư công cộng, tiêu dùng cá nhân, và tỷ lệ thất nghiệp làm biến độc lập"
   ]
  },
  {
   "cell_type": "markdown",
   "metadata": {},
   "source": [
    "#test 1: \n",
    "\n",
    "GDP = a + b*[Public Investment] + c*[Personal Spending] + d*[Unemployment Rate]"
   ]
  },
  {
   "cell_type": "code",
   "execution_count": 94,
   "metadata": {},
   "outputs": [
    {
     "name": "stdout",
     "output_type": "stream",
     "text": [
      "                            OLS Regression Results                            \n",
      "==============================================================================\n",
      "Dep. Variable:                    GDP   R-squared:                       0.273\n",
      "Model:                            OLS   Adj. R-squared:                  0.136\n",
      "Method:                 Least Squares   F-statistic:                     2.001\n",
      "Date:                Sun, 17 Dec 2023   Prob (F-statistic):              0.155\n",
      "Time:                        23:50:28   Log-Likelihood:                -207.37\n",
      "No. Observations:                  20   AIC:                             422.7\n",
      "Df Residuals:                      16   BIC:                             426.7\n",
      "Df Model:                           3                                         \n",
      "Covariance Type:            nonrobust                                         \n",
      "=====================================================================================\n",
      "                        coef    std err          t      P>|t|      [0.025      0.975]\n",
      "-------------------------------------------------------------------------------------\n",
      "const              1.627e+04   2.01e+04      0.812      0.429   -2.62e+04    5.88e+04\n",
      "Public Investment    16.8447     13.586      1.240      0.233     -11.956      45.645\n",
      "Personal Spending     4.5140      2.602      1.735      0.102      -1.002      10.030\n",
      "Unemployment Rate   882.6008   1280.029      0.690      0.500   -1830.939    3596.140\n",
      "==============================================================================\n",
      "Omnibus:                        3.516   Durbin-Watson:                   2.556\n",
      "Prob(Omnibus):                  0.172   Jarque-Bera (JB):                2.541\n",
      "Skew:                           0.869   Prob(JB):                        0.281\n",
      "Kurtosis:                       2.843   Cond. No.                     5.68e+04\n",
      "==============================================================================\n",
      "\n",
      "Notes:\n",
      "[1] Standard Errors assume that the covariance matrix of the errors is correctly specified.\n",
      "[2] The condition number is large, 5.68e+04. This might indicate that there are\n",
      "strong multicollinearity or other numerical problems.\n"
     ]
    }
   ],
   "source": [
    "x = df1[['Public Investment','Personal Spending','Unemployment Rate']]\n",
    "y = df1.GDP\n",
    "x = sm.add_constant(x)\n",
    "model = sm.OLS(y,x)\n",
    "results = model.fit()\n",
    "print(results.summary())"
   ]
  },
  {
   "cell_type": "markdown",
   "metadata": {},
   "source": [
    "#test 1: GDP = a + b*[Public Investment] + c*[Personal Spending] + d*[Unemployment Rate]\n",
    "\n",
    "    R-squared: 0.273\n",
    "    F-statistic: 0.136\n",
    "    Prob: 0.155  => tương đối lớn, có vẻ không phù hợp\n",
    "                                P_value\n",
    "const             (a)           0.429\n",
    "\n",
    "Public Investment (b)           0.233\n",
    "\n",
    "Personal Spending (c)           0.102\n",
    "\n",
    "Unemployment Rate (d)           0.500\n",
    "\n",
    "Có vẻ không phù hợp vì p_value lớn\n",
    "\n"
   ]
  },
  {
   "cell_type": "markdown",
   "metadata": {},
   "source": [
    "#test 2: \n",
    "\n",
    "GDP = b*[Public Investment] + c*[Personal Spending] + d*[Unemployment Rate]"
   ]
  },
  {
   "cell_type": "code",
   "execution_count": 95,
   "metadata": {},
   "outputs": [
    {
     "name": "stdout",
     "output_type": "stream",
     "text": [
      "                                 OLS Regression Results                                \n",
      "=======================================================================================\n",
      "Dep. Variable:                    GDP   R-squared (uncentered):                   0.984\n",
      "Model:                            OLS   Adj. R-squared (uncentered):              0.982\n",
      "Method:                 Least Squares   F-statistic:                              355.8\n",
      "Date:                Sun, 17 Dec 2023   Prob (F-statistic):                    1.56e-15\n",
      "Time:                        23:50:28   Log-Likelihood:                         -207.77\n",
      "No. Observations:                  20   AIC:                                      421.5\n",
      "Df Residuals:                      17   BIC:                                      424.5\n",
      "Df Model:                           3                                                  \n",
      "Covariance Type:            nonrobust                                                  \n",
      "=====================================================================================\n",
      "                        coef    std err          t      P>|t|      [0.025      0.975]\n",
      "-------------------------------------------------------------------------------------\n",
      "Public Investment    25.3405      8.571      2.956      0.009       7.257      43.424\n",
      "Personal Spending     5.5265      2.260      2.445      0.026       0.757      10.296\n",
      "Unemployment Rate  1271.8690   1174.779      1.083      0.294   -1206.698    3750.436\n",
      "==============================================================================\n",
      "Omnibus:                        2.176   Durbin-Watson:                   2.445\n",
      "Prob(Omnibus):                  0.337   Jarque-Bera (JB):                1.632\n",
      "Skew:                           0.680   Prob(JB):                        0.442\n",
      "Kurtosis:                       2.671   Cond. No.                     3.36e+03\n",
      "==============================================================================\n",
      "\n",
      "Notes:\n",
      "[1] R² is computed without centering (uncentered) since the model does not contain a constant.\n",
      "[2] Standard Errors assume that the covariance matrix of the errors is correctly specified.\n",
      "[3] The condition number is large, 3.36e+03. This might indicate that there are\n",
      "strong multicollinearity or other numerical problems.\n"
     ]
    }
   ],
   "source": [
    "x = df1[['Public Investment','Personal Spending','Unemployment Rate']]\n",
    "y = df1.GDP\n",
    "model = sm.OLS(y,x)\n",
    "results = model.fit()\n",
    "print(results.summary())"
   ]
  },
  {
   "cell_type": "markdown",
   "metadata": {},
   "source": [
    "#test 2: GDP = b*[Public Investment] + c*[Personal Spending] + d*[Unemployment Rate]\n",
    "\n",
    "    R-squared: 0.984\n",
    "    F-statistic: 355.8\n",
    "    Prob: 1.56e-15  => quá bé, có vẻ phù hợp\n",
    "                                P_value\n",
    "\n",
    "Public Investment (b)           0.009\n",
    "\n",
    "Personal Spending (c)           0.026\n",
    "\n",
    "Unemployment Rate (d)           0.294\n",
    "\n",
    "Tuy nhiên P_value tại quá lớn ở giá trị d, cần tìm 1 công thức phù hợp hơn.\n",
    "\n"
   ]
  },
  {
   "cell_type": "markdown",
   "metadata": {},
   "source": [
    "#test 3:\n",
    "\n",
    "    GDP = a + b*[Public Investment] + c*[Personal Spending]"
   ]
  },
  {
   "cell_type": "code",
   "execution_count": 96,
   "metadata": {},
   "outputs": [
    {
     "name": "stdout",
     "output_type": "stream",
     "text": [
      "                            OLS Regression Results                            \n",
      "==============================================================================\n",
      "Dep. Variable:                    GDP   R-squared:                       0.251\n",
      "Model:                            OLS   Adj. R-squared:                  0.163\n",
      "Method:                 Least Squares   F-statistic:                     2.851\n",
      "Date:                Sun, 17 Dec 2023   Prob (F-statistic):             0.0855\n",
      "Time:                        23:50:28   Log-Likelihood:                -207.66\n",
      "No. Observations:                  20   AIC:                             421.3\n",
      "Df Residuals:                      17   BIC:                             424.3\n",
      "Df Model:                           2                                         \n",
      "Covariance Type:            nonrobust                                         \n",
      "=====================================================================================\n",
      "                        coef    std err          t      P>|t|      [0.025      0.975]\n",
      "-------------------------------------------------------------------------------------\n",
      "const              2.145e+04   1.83e+04      1.172      0.257   -1.72e+04    6.01e+04\n",
      "Public Investment    12.6987     11.993      1.059      0.304     -12.604      38.002\n",
      "Personal Spending     5.2275      2.350      2.224      0.040       0.269      10.186\n",
      "==============================================================================\n",
      "Omnibus:                        3.009   Durbin-Watson:                   2.513\n",
      "Prob(Omnibus):                  0.222   Jarque-Bera (JB):                2.311\n",
      "Skew:                           0.815   Prob(JB):                        0.315\n",
      "Kurtosis:                       2.661   Cond. No.                     5.27e+04\n",
      "==============================================================================\n",
      "\n",
      "Notes:\n",
      "[1] Standard Errors assume that the covariance matrix of the errors is correctly specified.\n",
      "[2] The condition number is large, 5.27e+04. This might indicate that there are\n",
      "strong multicollinearity or other numerical problems.\n"
     ]
    }
   ],
   "source": [
    "x = df1[['Public Investment','Personal Spending']]\n",
    "y = df1.GDP\n",
    "x = sm.add_constant(x)\n",
    "model = sm.OLS(y,x)\n",
    "results = model.fit()\n",
    "print(results.summary())"
   ]
  },
  {
   "cell_type": "markdown",
   "metadata": {},
   "source": [
    "#test 3: GDP = a + b*[Public Investment] + c*[Personal Spending]\n",
    "\n",
    "    R-squared: 0.251\n",
    "    F-statistic: 2.851\n",
    "    Prob: 0.0855  => tương đối lớn, có vẻ không phù hợp\n",
    "                                P_value\n",
    "\n",
    "const             (a)           0.257\n",
    "\n",
    "Public Investment (b)           0.304\n",
    "\n",
    "Personal Spending (c)           0.040\n",
    "\n"
   ]
  },
  {
   "cell_type": "markdown",
   "metadata": {},
   "source": [
    "#test 4: \n",
    "\n",
    "    GDP = b*[Public Investment] + c*[Personal Spending]"
   ]
  },
  {
   "cell_type": "code",
   "execution_count": 97,
   "metadata": {},
   "outputs": [
    {
     "name": "stdout",
     "output_type": "stream",
     "text": [
      "                                 OLS Regression Results                                \n",
      "=======================================================================================\n",
      "Dep. Variable:                    GDP   R-squared (uncentered):                   0.983\n",
      "Model:                            OLS   Adj. R-squared (uncentered):              0.981\n",
      "Method:                 Least Squares   F-statistic:                              528.0\n",
      "Date:                Sun, 17 Dec 2023   Prob (F-statistic):                    1.04e-16\n",
      "Time:                        23:50:29   Log-Likelihood:                         -208.44\n",
      "No. Observations:                  20   AIC:                                      420.9\n",
      "Df Residuals:                      18   BIC:                                      422.9\n",
      "Df Model:                           2                                                  \n",
      "Covariance Type:            nonrobust                                                  \n",
      "=====================================================================================\n",
      "                        coef    std err          t      P>|t|      [0.025      0.975]\n",
      "-------------------------------------------------------------------------------------\n",
      "Public Investment    22.9247      8.315      2.757      0.013       5.455      40.394\n",
      "Personal Spending     7.2631      1.600      4.538      0.000       3.901      10.625\n",
      "==============================================================================\n",
      "Omnibus:                        2.028   Durbin-Watson:                   2.296\n",
      "Prob(Omnibus):                  0.363   Jarque-Bera (JB):                1.684\n",
      "Skew:                           0.604   Prob(JB):                        0.431\n",
      "Kurtosis:                       2.250   Cond. No.                         24.1\n",
      "==============================================================================\n",
      "\n",
      "Notes:\n",
      "[1] R² is computed without centering (uncentered) since the model does not contain a constant.\n",
      "[2] Standard Errors assume that the covariance matrix of the errors is correctly specified.\n"
     ]
    }
   ],
   "source": [
    "x = df1[['Public Investment','Personal Spending']]\n",
    "y = df1.GDP\n",
    "model = sm.OLS(y,x)\n",
    "results = model.fit()\n",
    "\n",
    "print(results.summary())\n"
   ]
  },
  {
   "cell_type": "markdown",
   "metadata": {},
   "source": [
    "#test 4: GDP = b*[Public Investment] + c*[Personal Spending]\n",
    "\n",
    "    R-squared: 0.983\n",
    "    F-statistic: 528.0\n",
    "    Prob:1.04e-16  => tương đối nhỏ, có vẻ phù hợp và đồng thời R-squared cũng rất cao\n",
    "\n",
    "                                P_value\n",
    "\n",
    "Public Investment (b)           0.013\n",
    "\n",
    "Personal Spending (c)           0.000\n",
    "\n",
    "P_value cũng hợp lý, vì thế tôi lựa chọn đây là mô hình hợp lý.\n"
   ]
  },
  {
   "cell_type": "markdown",
   "metadata": {},
   "source": [
    "GDP = 22.9247 * [Public Investment] + 7.2631 * [Personal Spending]\n",
    "\n",
    "GDP phụ thuộc vào [Public Investment] & [Persional Spending], nhưng không phụ thuộc vào [Unemployment Rate]"
   ]
  },
  {
   "cell_type": "markdown",
   "metadata": {},
   "source": [
    "Để dự đoán GDP trong năm tiếp theo dựa trên các ước lượng từ mô hình, vì không có giá trị dữ liệu từ năm tiếp theo tôi sẽ tạm thời lấy giá trị mean từ tập dữ liệu."
   ]
  },
  {
   "cell_type": "markdown",
   "metadata": {},
   "source": [
    "Xử dụng LinearRegression để dự đoán"
   ]
  },
  {
   "cell_type": "code",
   "execution_count": 98,
   "metadata": {},
   "outputs": [
    {
     "name": "stdout",
     "output_type": "stream",
     "text": [
      "Dự đoán GDP của năm sau thông qua LinearRegression là:  62125.1915\n"
     ]
    }
   ],
   "source": [
    "from sklearn.linear_model import LinearRegression\n",
    "\n",
    "x = df1[['Public Investment','Personal Spending']]\n",
    "y = df1.GDP\n",
    "model = LinearRegression()\n",
    "model.fit(x,y)\n",
    "ave_investment = df1['Public Investment'].mean()\n",
    "ave_Spending = df1['Personal Spending'].mean()\n",
    "\n",
    "new_data = pd.DataFrame({'Public Investment': [ave_investment], 'Personal Spending': [ave_Spending]})\n",
    "predicted_gdp = model.predict(new_data)\n",
    "print(\"Dự đoán GDP của năm sau thông qua LinearRegression là: \", predicted_gdp[0])"
   ]
  },
  {
   "cell_type": "markdown",
   "metadata": {},
   "source": [
    "Xử dụng mô hình vừa tìm được ở trên\n",
    "\n",
    "GDP = 22.9247 * ave_investment + 7.2631 * ave_Spending"
   ]
  },
  {
   "cell_type": "code",
   "execution_count": 99,
   "metadata": {},
   "outputs": [
    {
     "name": "stdout",
     "output_type": "stream",
     "text": [
      "Dự đoán GDP của năm sau thông qua mô hình vừa tìm được là :  61895.077714600004\n"
     ]
    }
   ],
   "source": [
    "GDP = 22.9247 * ave_investment + 7.2631 * ave_Spending\n",
    "print(\"Dự đoán GDP của năm sau thông qua mô hình vừa tìm được là : \",22.9247 * ave_investment + 7.2631 * ave_Spending )"
   ]
  },
  {
   "cell_type": "markdown",
   "metadata": {},
   "source": [
    "Xử dụng phép dự đoán của OLS"
   ]
  },
  {
   "cell_type": "code",
   "execution_count": 100,
   "metadata": {},
   "outputs": [
    {
     "name": "stdout",
     "output_type": "stream",
     "text": [
      "Dự đoán GDP của năm sau thông qua phép dự đoán của OLS là : 61894.95549215603\n"
     ]
    }
   ],
   "source": [
    "x = df1[['Public Investment','Personal Spending']]\n",
    "y = df1.GDP\n",
    "model = sm.OLS(y,x)\n",
    "results = model.fit()\n",
    "new_data = pd.DataFrame({'Public Investment': [ave_investment], 'Personal Spending': [ave_Spending]})\n",
    "predicted_gdp = results.predict(new_data)\n",
    "print('Dự đoán GDP của năm sau thông qua phép dự đoán của OLS là :',predicted_gdp.values[0])\n"
   ]
  },
  {
   "cell_type": "markdown",
   "metadata": {},
   "source": [
    "Từ 3 phép dự đoán trên, ta có thể thấy GDP có vẻ sẽ dao động từ 61894 -> 62125"
   ]
  },
  {
   "cell_type": "markdown",
   "metadata": {},
   "source": [
    "Câu hỏi 3: \n",
    "\n",
    "Sử dụng lại dataset ở BTLT 2 (E2.3), dùng phương pháp hồi quy điền vào missing value cho cột overall scores"
   ]
  },
  {
   "cell_type": "code",
   "execution_count": 101,
   "metadata": {},
   "outputs": [
    {
     "data": {
      "text/html": [
       "<div>\n",
       "<style scoped>\n",
       "    .dataframe tbody tr th:only-of-type {\n",
       "        vertical-align: middle;\n",
       "    }\n",
       "\n",
       "    .dataframe tbody tr th {\n",
       "        vertical-align: top;\n",
       "    }\n",
       "\n",
       "    .dataframe thead th {\n",
       "        text-align: right;\n",
       "    }\n",
       "</style>\n",
       "<table border=\"1\" class=\"dataframe\">\n",
       "  <thead>\n",
       "    <tr style=\"text-align: right;\">\n",
       "      <th></th>\n",
       "      <th>University Rank</th>\n",
       "      <th>Name of University</th>\n",
       "      <th>Location</th>\n",
       "      <th>No of student</th>\n",
       "      <th>No of student per staff</th>\n",
       "      <th>International Student</th>\n",
       "      <th>Female:Male Ratio</th>\n",
       "      <th>OverAll Score</th>\n",
       "      <th>Teaching Score</th>\n",
       "      <th>Research Score</th>\n",
       "      <th>Citations Score</th>\n",
       "      <th>Industry Income Score</th>\n",
       "      <th>International Outlook Score</th>\n",
       "    </tr>\n",
       "  </thead>\n",
       "  <tbody>\n",
       "    <tr>\n",
       "      <th>0</th>\n",
       "      <td>1</td>\n",
       "      <td>University of Oxford</td>\n",
       "      <td>United Kingdom</td>\n",
       "      <td>20,965</td>\n",
       "      <td>10.6</td>\n",
       "      <td>42%</td>\n",
       "      <td>48 : 52</td>\n",
       "      <td>96.4</td>\n",
       "      <td>92.3</td>\n",
       "      <td>99.7</td>\n",
       "      <td>99.0</td>\n",
       "      <td>74.9</td>\n",
       "      <td>96.2</td>\n",
       "    </tr>\n",
       "    <tr>\n",
       "      <th>1</th>\n",
       "      <td>2</td>\n",
       "      <td>Harvard University</td>\n",
       "      <td>United States</td>\n",
       "      <td>21,887</td>\n",
       "      <td>9.6</td>\n",
       "      <td>25%</td>\n",
       "      <td>50 : 50</td>\n",
       "      <td>95.2</td>\n",
       "      <td>94.8</td>\n",
       "      <td>99.0</td>\n",
       "      <td>99.3</td>\n",
       "      <td>49.5</td>\n",
       "      <td>80.5</td>\n",
       "    </tr>\n",
       "    <tr>\n",
       "      <th>2</th>\n",
       "      <td>3</td>\n",
       "      <td>University of Cambridge</td>\n",
       "      <td>United Kingdom</td>\n",
       "      <td>20,185</td>\n",
       "      <td>11.3</td>\n",
       "      <td>39%</td>\n",
       "      <td>47 : 53</td>\n",
       "      <td>94.8</td>\n",
       "      <td>90.9</td>\n",
       "      <td>99.5</td>\n",
       "      <td>97.0</td>\n",
       "      <td>54.2</td>\n",
       "      <td>95.8</td>\n",
       "    </tr>\n",
       "    <tr>\n",
       "      <th>3</th>\n",
       "      <td>3</td>\n",
       "      <td>Stanford University</td>\n",
       "      <td>United States</td>\n",
       "      <td>16,164</td>\n",
       "      <td>7.1</td>\n",
       "      <td>24%</td>\n",
       "      <td>46 : 54</td>\n",
       "      <td>94.8</td>\n",
       "      <td>94.2</td>\n",
       "      <td>96.7</td>\n",
       "      <td>99.8</td>\n",
       "      <td>65.0</td>\n",
       "      <td>79.8</td>\n",
       "    </tr>\n",
       "    <tr>\n",
       "      <th>4</th>\n",
       "      <td>5</td>\n",
       "      <td>Massachusetts Institute of Technology</td>\n",
       "      <td>United States</td>\n",
       "      <td>11,415</td>\n",
       "      <td>8.2</td>\n",
       "      <td>33%</td>\n",
       "      <td>40 : 60</td>\n",
       "      <td>94.2</td>\n",
       "      <td>90.7</td>\n",
       "      <td>93.6</td>\n",
       "      <td>99.8</td>\n",
       "      <td>90.9</td>\n",
       "      <td>89.3</td>\n",
       "    </tr>\n",
       "  </tbody>\n",
       "</table>\n",
       "</div>"
      ],
      "text/plain": [
       "  University Rank                     Name of University        Location  \\\n",
       "0               1                   University of Oxford  United Kingdom   \n",
       "1               2                     Harvard University   United States   \n",
       "2               3                University of Cambridge  United Kingdom   \n",
       "3               3                    Stanford University   United States   \n",
       "4               5  Massachusetts Institute of Technology   United States   \n",
       "\n",
       "  No of student  No of student per staff International Student  \\\n",
       "0        20,965                     10.6                   42%   \n",
       "1        21,887                      9.6                   25%   \n",
       "2        20,185                     11.3                   39%   \n",
       "3        16,164                      7.1                   24%   \n",
       "4        11,415                      8.2                   33%   \n",
       "\n",
       "  Female:Male Ratio OverAll Score  Teaching Score  Research Score  \\\n",
       "0           48 : 52          96.4            92.3            99.7   \n",
       "1           50 : 50          95.2            94.8            99.0   \n",
       "2           47 : 53          94.8            90.9            99.5   \n",
       "3           46 : 54          94.8            94.2            96.7   \n",
       "4           40 : 60          94.2            90.7            93.6   \n",
       "\n",
       "   Citations Score  Industry Income Score  International Outlook Score  \n",
       "0             99.0                   74.9                         96.2  \n",
       "1             99.3                   49.5                         80.5  \n",
       "2             97.0                   54.2                         95.8  \n",
       "3             99.8                   65.0                         79.8  \n",
       "4             99.8                   90.9                         89.3  "
      ]
     },
     "execution_count": 101,
     "metadata": {},
     "output_type": "execute_result"
    }
   ],
   "source": [
    "df2 = pd.read_csv(\"https://raw.githubusercontent.com/Nganho22/20127250_BT2/master/World%20University%20Rankings%202023.csv\")\n",
    "df2.head()\n"
   ]
  },
  {
   "cell_type": "markdown",
   "metadata": {},
   "source": [
    "Trước hết tôi sẽ xử lý missing ở các cột khác OverAll Score"
   ]
  },
  {
   "cell_type": "code",
   "execution_count": 102,
   "metadata": {},
   "outputs": [],
   "source": [
    "#df = pd.DataFrame(df2)\n",
    "df2 = df2.drop_duplicates(subset='Name of University', keep='first')\n",
    "df2 = df2[['OverAll Score','Teaching Score','Research Score','Citations Score', 'Industry Income Score','International Outlook Score']]"
   ]
  },
  {
   "cell_type": "code",
   "execution_count": 103,
   "metadata": {},
   "outputs": [
    {
     "data": {
      "text/html": [
       "<div>\n",
       "<style scoped>\n",
       "    .dataframe tbody tr th:only-of-type {\n",
       "        vertical-align: middle;\n",
       "    }\n",
       "\n",
       "    .dataframe tbody tr th {\n",
       "        vertical-align: top;\n",
       "    }\n",
       "\n",
       "    .dataframe thead th {\n",
       "        text-align: right;\n",
       "    }\n",
       "</style>\n",
       "<table border=\"1\" class=\"dataframe\">\n",
       "  <thead>\n",
       "    <tr style=\"text-align: right;\">\n",
       "      <th></th>\n",
       "      <th>OverAll Score</th>\n",
       "      <th>Teaching Score</th>\n",
       "      <th>Research Score</th>\n",
       "      <th>Citations Score</th>\n",
       "      <th>Industry Income Score</th>\n",
       "      <th>International Outlook Score</th>\n",
       "    </tr>\n",
       "  </thead>\n",
       "  <tbody>\n",
       "    <tr>\n",
       "      <th>0</th>\n",
       "      <td>96.4</td>\n",
       "      <td>92.3</td>\n",
       "      <td>99.7</td>\n",
       "      <td>99.0</td>\n",
       "      <td>74.9</td>\n",
       "      <td>96.2</td>\n",
       "    </tr>\n",
       "    <tr>\n",
       "      <th>1</th>\n",
       "      <td>95.2</td>\n",
       "      <td>94.8</td>\n",
       "      <td>99.0</td>\n",
       "      <td>99.3</td>\n",
       "      <td>49.5</td>\n",
       "      <td>80.5</td>\n",
       "    </tr>\n",
       "    <tr>\n",
       "      <th>2</th>\n",
       "      <td>94.8</td>\n",
       "      <td>90.9</td>\n",
       "      <td>99.5</td>\n",
       "      <td>97.0</td>\n",
       "      <td>54.2</td>\n",
       "      <td>95.8</td>\n",
       "    </tr>\n",
       "    <tr>\n",
       "      <th>3</th>\n",
       "      <td>94.8</td>\n",
       "      <td>94.2</td>\n",
       "      <td>96.7</td>\n",
       "      <td>99.8</td>\n",
       "      <td>65.0</td>\n",
       "      <td>79.8</td>\n",
       "    </tr>\n",
       "    <tr>\n",
       "      <th>4</th>\n",
       "      <td>94.2</td>\n",
       "      <td>90.7</td>\n",
       "      <td>93.6</td>\n",
       "      <td>99.8</td>\n",
       "      <td>90.9</td>\n",
       "      <td>89.3</td>\n",
       "    </tr>\n",
       "  </tbody>\n",
       "</table>\n",
       "</div>"
      ],
      "text/plain": [
       "  OverAll Score  Teaching Score  Research Score  Citations Score  \\\n",
       "0          96.4            92.3            99.7             99.0   \n",
       "1          95.2            94.8            99.0             99.3   \n",
       "2          94.8            90.9            99.5             97.0   \n",
       "3          94.8            94.2            96.7             99.8   \n",
       "4          94.2            90.7            93.6             99.8   \n",
       "\n",
       "   Industry Income Score  International Outlook Score  \n",
       "0                   74.9                         96.2  \n",
       "1                   49.5                         80.5  \n",
       "2                   54.2                         95.8  \n",
       "3                   65.0                         79.8  \n",
       "4                   90.9                         89.3  "
      ]
     },
     "execution_count": 103,
     "metadata": {},
     "output_type": "execute_result"
    }
   ],
   "source": [
    "df2.head()\n"
   ]
  },
  {
   "cell_type": "code",
   "execution_count": 104,
   "metadata": {},
   "outputs": [
    {
     "name": "stdout",
     "output_type": "stream",
     "text": [
      "Xem lại tỷ lệ missing ở mỗi cột\n",
      "OverAll Score: 22.92%\n",
      "Teaching Score: 22.92%\n",
      "Research Score: 22.92%\n",
      "Citations Score: 22.92%\n",
      "Industry Income Score: 22.92%\n",
      "International Outlook Score: 22.92%\n",
      "\n",
      "Tong gia tri bi missing o moi column la:\n",
      "OverAll Score                  512\n",
      "Teaching Score                 512\n",
      "Research Score                 512\n",
      "Citations Score                512\n",
      "Industry Income Score          512\n",
      "International Outlook Score    512\n",
      "dtype: int64\n"
     ]
    }
   ],
   "source": [
    "print('Xem lại tỷ lệ missing ở mỗi cột')\n",
    "for column in df2.columns:\n",
    "  per = df2[column].isnull().mean()\n",
    "  print(f'{column}: {round(per*100,2)}%')\n",
    "\n",
    "Tong_missing_values = df2.isna().sum()\n",
    "print(\"\\nTong gia tri bi missing o moi column la:\")\n",
    "print(Tong_missing_values)"
   ]
  },
  {
   "cell_type": "code",
   "execution_count": 105,
   "metadata": {},
   "outputs": [
    {
     "name": "stdout",
     "output_type": "stream",
     "text": [
      "Kiểm tra xem các cột còn lại có cùng missing với nhau\n",
      "OverAll Score                  512\n",
      "Teaching Score                 512\n",
      "Research Score                 512\n",
      "Citations Score                512\n",
      "Industry Income Score          512\n",
      "International Outlook Score    512\n",
      "dtype: int64\n"
     ]
    }
   ],
   "source": [
    "print(\"Kiểm tra xem các cột còn lại có cùng missing với nhau\")\n",
    "check = df2[df2['OverAll Score'].isnull()]\n",
    "count = check.isnull().sum()\n",
    "print(count)"
   ]
  },
  {
   "cell_type": "code",
   "execution_count": 106,
   "metadata": {},
   "outputs": [
    {
     "name": "stdout",
     "output_type": "stream",
     "text": [
      "Drop toàn bộ cột chứa null\n",
      "Tong gia tri bi missing o moi column la:\n",
      "OverAll Score                  0\n",
      "Teaching Score                 0\n",
      "Research Score                 0\n",
      "Citations Score                0\n",
      "Industry Income Score          0\n",
      "International Outlook Score    0\n",
      "dtype: int64\n"
     ]
    }
   ],
   "source": [
    "print('Drop toàn bộ cột chứa null')\n",
    "df2.dropna(subset='OverAll Score', inplace=True)\n",
    "Tong_missing_values = df2.isna().sum()\n",
    "print(\"Tong gia tri bi missing o moi column la:\")\n",
    "print(Tong_missing_values)"
   ]
  },
  {
   "cell_type": "code",
   "execution_count": 107,
   "metadata": {},
   "outputs": [
    {
     "name": "stdout",
     "output_type": "stream",
     "text": [
      "Danh sach cac columns va type cua chung\n",
      "OverAll Score                   object\n",
      "Teaching Score                 float64\n",
      "Research Score                 float64\n",
      "Citations Score                float64\n",
      "Industry Income Score          float64\n",
      "International Outlook Score    float64\n",
      "dtype: object\n"
     ]
    }
   ],
   "source": [
    "column_types = df2.dtypes\n",
    "print(\"Danh sach cac columns va type cua chung\")\n",
    "print(column_types)\n"
   ]
  },
  {
   "cell_type": "markdown",
   "metadata": {},
   "source": [
    "Tôi sẽ chuyển đổi cột OverAll Score thành numeric, nếu tồn tại ký từ không phải là từ '0' -> '9' thì sẽ null"
   ]
  },
  {
   "cell_type": "code",
   "execution_count": 108,
   "metadata": {},
   "outputs": [],
   "source": [
    "df2['OverAll Score'] = pd.to_numeric(df2['OverAll Score'], errors='coerce')\n"
   ]
  },
  {
   "cell_type": "code",
   "execution_count": 109,
   "metadata": {},
   "outputs": [
    {
     "name": "stdout",
     "output_type": "stream",
     "text": [
      "Tong gia tri bi missing o moi column la:\n",
      "OverAll Score                  1522\n",
      "Teaching Score                    0\n",
      "Research Score                    0\n",
      "Citations Score                   0\n",
      "Industry Income Score             0\n",
      "International Outlook Score       0\n",
      "dtype: int64\n"
     ]
    }
   ],
   "source": [
    "Tong_missing_values = df2.isna().sum()\n",
    "print(\"Tong gia tri bi missing o moi column la:\")\n",
    "print(Tong_missing_values)"
   ]
  },
  {
   "cell_type": "markdown",
   "metadata": {},
   "source": [
    "Tôi sẽ tiến hành lấy những cột không bị null ra để tìm mô hình thích hợp"
   ]
  },
  {
   "cell_type": "code",
   "execution_count": 110,
   "metadata": {},
   "outputs": [
    {
     "data": {
      "text/html": [
       "<div>\n",
       "<style scoped>\n",
       "    .dataframe tbody tr th:only-of-type {\n",
       "        vertical-align: middle;\n",
       "    }\n",
       "\n",
       "    .dataframe tbody tr th {\n",
       "        vertical-align: top;\n",
       "    }\n",
       "\n",
       "    .dataframe thead th {\n",
       "        text-align: right;\n",
       "    }\n",
       "</style>\n",
       "<table border=\"1\" class=\"dataframe\">\n",
       "  <thead>\n",
       "    <tr style=\"text-align: right;\">\n",
       "      <th></th>\n",
       "      <th>OverAll Score</th>\n",
       "      <th>Teaching Score</th>\n",
       "      <th>Research Score</th>\n",
       "      <th>Citations Score</th>\n",
       "      <th>Industry Income Score</th>\n",
       "      <th>International Outlook Score</th>\n",
       "    </tr>\n",
       "  </thead>\n",
       "  <tbody>\n",
       "    <tr>\n",
       "      <th>0</th>\n",
       "      <td>96.4</td>\n",
       "      <td>92.3</td>\n",
       "      <td>99.7</td>\n",
       "      <td>99.0</td>\n",
       "      <td>74.9</td>\n",
       "      <td>96.2</td>\n",
       "    </tr>\n",
       "    <tr>\n",
       "      <th>1</th>\n",
       "      <td>95.2</td>\n",
       "      <td>94.8</td>\n",
       "      <td>99.0</td>\n",
       "      <td>99.3</td>\n",
       "      <td>49.5</td>\n",
       "      <td>80.5</td>\n",
       "    </tr>\n",
       "    <tr>\n",
       "      <th>2</th>\n",
       "      <td>94.8</td>\n",
       "      <td>90.9</td>\n",
       "      <td>99.5</td>\n",
       "      <td>97.0</td>\n",
       "      <td>54.2</td>\n",
       "      <td>95.8</td>\n",
       "    </tr>\n",
       "    <tr>\n",
       "      <th>3</th>\n",
       "      <td>94.8</td>\n",
       "      <td>94.2</td>\n",
       "      <td>96.7</td>\n",
       "      <td>99.8</td>\n",
       "      <td>65.0</td>\n",
       "      <td>79.8</td>\n",
       "    </tr>\n",
       "    <tr>\n",
       "      <th>4</th>\n",
       "      <td>94.2</td>\n",
       "      <td>90.7</td>\n",
       "      <td>93.6</td>\n",
       "      <td>99.8</td>\n",
       "      <td>90.9</td>\n",
       "      <td>89.3</td>\n",
       "    </tr>\n",
       "  </tbody>\n",
       "</table>\n",
       "</div>"
      ],
      "text/plain": [
       "   OverAll Score  Teaching Score  Research Score  Citations Score  \\\n",
       "0           96.4            92.3            99.7             99.0   \n",
       "1           95.2            94.8            99.0             99.3   \n",
       "2           94.8            90.9            99.5             97.0   \n",
       "3           94.8            94.2            96.7             99.8   \n",
       "4           94.2            90.7            93.6             99.8   \n",
       "\n",
       "   Industry Income Score  International Outlook Score  \n",
       "0                   74.9                         96.2  \n",
       "1                   49.5                         80.5  \n",
       "2                   54.2                         95.8  \n",
       "3                   65.0                         79.8  \n",
       "4                   90.9                         89.3  "
      ]
     },
     "execution_count": 110,
     "metadata": {},
     "output_type": "execute_result"
    }
   ],
   "source": [
    "df3 = df2[df2['OverAll Score'].notnull()]\n",
    "df3.head()"
   ]
  },
  {
   "cell_type": "markdown",
   "metadata": {},
   "source": [
    "#test 1: \n",
    "\n",
    "[OverAll Score] = a + b*[Teaching Score] + c*[Research Score] + d*[Citations Score] + e*[Industry Income Score] + f*[International Outlook Score]"
   ]
  },
  {
   "cell_type": "code",
   "execution_count": 111,
   "metadata": {},
   "outputs": [
    {
     "name": "stdout",
     "output_type": "stream",
     "text": [
      "                            OLS Regression Results                            \n",
      "==============================================================================\n",
      "Dep. Variable:          OverAll Score   R-squared:                       1.000\n",
      "Model:                            OLS   Adj. R-squared:                  1.000\n",
      "Method:                 Least Squares   F-statistic:                 4.557e+06\n",
      "Date:                Sun, 17 Dec 2023   Prob (F-statistic):               0.00\n",
      "Time:                        23:50:31   Log-Likelihood:                 404.43\n",
      "No. Observations:                 200   AIC:                            -796.9\n",
      "Df Residuals:                     194   BIC:                            -777.1\n",
      "Df Model:                           5                                         \n",
      "Covariance Type:            nonrobust                                         \n",
      "===============================================================================================\n",
      "                                  coef    std err          t      P>|t|      [0.025      0.975]\n",
      "-----------------------------------------------------------------------------------------------\n",
      "const                          -0.0089      0.023     -0.394      0.694      -0.054       0.036\n",
      "Teaching Score                  0.2998      0.000    819.461      0.000       0.299       0.301\n",
      "Research Score                  0.3002      0.000    875.102      0.000       0.300       0.301\n",
      "Citations Score                 0.3002      0.000   1426.152      0.000       0.300       0.301\n",
      "Industry Income Score           0.0250      0.000    188.132      0.000       0.025       0.025\n",
      "International Outlook Score     0.0749      0.000    519.005      0.000       0.075       0.075\n",
      "==============================================================================\n",
      "Omnibus:                       24.638   Durbin-Watson:                   2.086\n",
      "Prob(Omnibus):                  0.000   Jarque-Bera (JB):                7.289\n",
      "Skew:                          -0.059   Prob(JB):                       0.0261\n",
      "Kurtosis:                       2.072   Cond. No.                     1.51e+03\n",
      "==============================================================================\n",
      "\n",
      "Notes:\n",
      "[1] Standard Errors assume that the covariance matrix of the errors is correctly specified.\n",
      "[2] The condition number is large, 1.51e+03. This might indicate that there are\n",
      "strong multicollinearity or other numerical problems.\n"
     ]
    }
   ],
   "source": [
    "x = df3[['Teaching Score','Research Score','Citations Score','Industry Income Score','International Outlook Score']]\n",
    "y = df3['OverAll Score']\n",
    "x = sm.add_constant(x)\n",
    "model = sm.OLS(y,x)\n",
    "results = model.fit()\n",
    "print(results.summary())"
   ]
  },
  {
   "cell_type": "markdown",
   "metadata": {},
   "source": [
    "có vẻ tương đối phù hợp vì Prob = 0\n",
    "R-squared:                       1.000\n",
    "F-statistic:                 4.557e+06\n",
    "Prob (F-statistic):               0.00\n",
    "\n",
    "tuy nhiên p_value của const lại quá lớn 0.694, nên t sẽ tiến hành lựa chọn mô hình khác"
   ]
  },
  {
   "cell_type": "markdown",
   "metadata": {},
   "source": [
    "#test 2: \n",
    "\n",
    "[OverAll Score] = b*[Teaching Score] + c*[Research Score] + d*[Citations Score] + e*[Industry Income Score] + f*[International Outlook Score]"
   ]
  },
  {
   "cell_type": "code",
   "execution_count": 112,
   "metadata": {},
   "outputs": [
    {
     "name": "stdout",
     "output_type": "stream",
     "text": [
      "                                 OLS Regression Results                                \n",
      "=======================================================================================\n",
      "Dep. Variable:          OverAll Score   R-squared (uncentered):                   1.000\n",
      "Model:                            OLS   Adj. R-squared (uncentered):              1.000\n",
      "Method:                 Least Squares   F-statistic:                          1.728e+08\n",
      "Date:                Sun, 17 Dec 2023   Prob (F-statistic):                        0.00\n",
      "Time:                        23:50:31   Log-Likelihood:                          404.35\n",
      "No. Observations:                 200   AIC:                                     -798.7\n",
      "Df Residuals:                     195   BIC:                                     -782.2\n",
      "Df Model:                           5                                                  \n",
      "Covariance Type:            nonrobust                                                  \n",
      "===============================================================================================\n",
      "                                  coef    std err          t      P>|t|      [0.025      0.975]\n",
      "-----------------------------------------------------------------------------------------------\n",
      "Teaching Score                  0.2998      0.000    858.157      0.000       0.299       0.300\n",
      "Research Score                  0.3003      0.000    902.445      0.000       0.300       0.301\n",
      "Citations Score                 0.3001      0.000   2128.437      0.000       0.300       0.300\n",
      "Industry Income Score           0.0250      0.000    229.441      0.000       0.025       0.025\n",
      "International Outlook Score     0.0749      0.000    549.508      0.000       0.075       0.075\n",
      "==============================================================================\n",
      "Omnibus:                       26.722   Durbin-Watson:                   2.084\n",
      "Prob(Omnibus):                  0.000   Jarque-Bera (JB):                7.603\n",
      "Skew:                          -0.067   Prob(JB):                       0.0223\n",
      "Kurtosis:                       2.054   Cond. No.                         31.8\n",
      "==============================================================================\n",
      "\n",
      "Notes:\n",
      "[1] R² is computed without centering (uncentered) since the model does not contain a constant.\n",
      "[2] Standard Errors assume that the covariance matrix of the errors is correctly specified.\n"
     ]
    }
   ],
   "source": [
    "x = df3[['Teaching Score','Research Score','Citations Score','Industry Income Score','International Outlook Score']]\n",
    "y = df3['OverAll Score']\n",
    "model = sm.OLS(y,x)\n",
    "results = model.fit()\n",
    "print(results.summary())"
   ]
  },
  {
   "cell_type": "markdown",
   "metadata": {},
   "source": [
    "Hoàn toàn phù hợp vì R-squared = 1, Prob = 0.00\n",
    "\n",
    "\n",
    "                                        p_value\n",
    "\n",
    "Teaching Score              (b)         0.000\n",
    "\n",
    "Research Score              (c)         0.000\n",
    "\n",
    "Citations Score             (d)         0.000\n",
    "\n",
    "Industry Income Score       (e)         0.000\n",
    "\n",
    "International Outlook Score (f)         0.000\n"
   ]
  },
  {
   "cell_type": "markdown",
   "metadata": {},
   "source": [
    "Vậy mô hình thích hợp nhất là: \n",
    "\n",
    "[OverAll Score] = 0.2998*[Teaching Score] + 0.3003*[Research Score] + 0.3001*[Citations Score] + 0.025*[Industry Income Score] + 0.0749*[International Outlook Score]"
   ]
  },
  {
   "cell_type": "markdown",
   "metadata": {},
   "source": [
    "Điền lại các giá trị missing"
   ]
  },
  {
   "cell_type": "code",
   "execution_count": 113,
   "metadata": {},
   "outputs": [
    {
     "name": "stdout",
     "output_type": "stream",
     "text": [
      "Xem lại tỷ lệ missing ở mỗi cột sau khi xử lý missing là:\n",
      "OverAll Score: 0.0%\n",
      "Teaching Score: 0.0%\n",
      "Research Score: 0.0%\n",
      "Citations Score: 0.0%\n",
      "Industry Income Score: 0.0%\n",
      "International Outlook Score: 0.0%\n"
     ]
    }
   ],
   "source": [
    "coef ={\n",
    "    'Teaching Score': 0.2998,\n",
    "    'Research Score': 0.3003,\n",
    "    'Citations Score': 0.3001,\n",
    "    'Industry Income Score': 0.025,\n",
    "    'International Outlook Score': 0.0749\n",
    "}\n",
    "calculate = (\n",
    "    coef['Teaching Score'] * df2['Teaching Score'] +\n",
    "    coef['Research Score'] * df2['Research Score'] +\n",
    "    coef['Citations Score'] * df2['Citations Score'] +\n",
    "    coef['Industry Income Score'] * df2['Industry Income Score'] +\n",
    "    coef['International Outlook Score'] * df2['International Outlook Score']\n",
    ")\n",
    "\n",
    "df2['OverAll Score'].fillna(calculate, inplace=True)\n",
    "\n",
    "print('Xem lại tỷ lệ missing ở mỗi cột sau khi xử lý missing là:')\n",
    "for column in df2.columns:\n",
    "  per = df2[column].isnull().mean()\n",
    "  print(f'{column}: {round(per*100,2)}%')"
   ]
  }
 ],
 "metadata": {
  "kernelspec": {
   "display_name": "Python 3",
   "language": "python",
   "name": "python3"
  },
  "language_info": {
   "codemirror_mode": {
    "name": "ipython",
    "version": 3
   },
   "file_extension": ".py",
   "mimetype": "text/x-python",
   "name": "python",
   "nbconvert_exporter": "python",
   "pygments_lexer": "ipython3",
   "version": "3.10.5"
  }
 },
 "nbformat": 4,
 "nbformat_minor": 2
}
